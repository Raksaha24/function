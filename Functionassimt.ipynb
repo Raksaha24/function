{
  "nbformat": 4,
  "nbformat_minor": 0,
  "metadata": {
    "colab": {
      "provenance": []
    },
    "kernelspec": {
      "name": "python3",
      "display_name": "Python 3"
    },
    "language_info": {
      "name": "python"
    }
  },
  "cells": [
    {
      "cell_type": "markdown",
      "source": [
        "Q.1 What is the difference between a function and a method in python?\n",
        " - A function is a standalone block of code that is not associated with any particular object or class.\n",
        "  Ex- def add_nums(a,b):\n",
        "        return a + b\n",
        "        result = add_nums(1,2)\n",
        "      print(result)\n",
        "  output = 3\n",
        "   A method is a function that is defined within a class and is associated with object of that class.\n",
        "   class Dog:\n",
        "      def __init__(self,name):\n",
        "        self.name = name\n",
        "      def bark(self):\n",
        "        print(f\"{self.name} says woof!\")\n",
        "   my_dog = Dog(\"buddy\")\n",
        "   my_dog.bark()\n",
        "   output = buddy says woof!\n",
        "\n",
        "Q.2 Explain the concept of function arguments and parameters in python.\n",
        " - Arguments are the actual values passed to a function when it is called. it is provide the specific data that will be used by the functions parameters during its execution.\n",
        "  Ex- def greet(name,message):\n",
        "         print(f\"{message}, {name}\")\n",
        "      greet(\"alice\",\"hello\")\n",
        "    output = \"hello, alice\"\n",
        "   parameters are the variables defined within the parentheses of a function's definition. it is defined the type and number of inputs a function can accept.\n",
        "     Ex- in the above example message and name are placeholder parameters.\n",
        "\n",
        "Q.3 What are the different ways to defined and call a function in python?\n",
        " - Function can be difined in python such as def, function_name, (...) etc. here def keyword initiates the function definition, function_name descrive the name of the function.\n",
        "\n",
        "\n",
        "Q.4 What is the purpose of the 'return' statement in a python function?\n",
        " - the main purpose of return statement in python is to exit a function and to send a value back to the caller.\n",
        " Ex-\n",
        "   def add_nums(num1,num2):\n",
        "      sum_result= num1 + num2\n",
        "      return sum_result\n",
        "\n",
        "Q.5 What are iterators in pyhton and how do they differ from iterables?\n",
        " - An iterable is basically an object that any user can iterate over. an iterator is also an object that helps a user in iterating over another object, which is iterable.\n",
        "  Ex- a list is iterable nut not iterator.\n",
        "\n",
        "Q.6 Explain the concept of generators in pyhton and how they are defined.\n",
        " - A generator is a special type of iterator that produces a sequence of values on demand rather than storing them all in memory at once.\n",
        "    it's defined like a regular function but it uses the yield keyword instead of return.\n",
        "Ex-\n",
        "  def count_upto(n):\n",
        "    count = 1\n",
        "    while count <= n:\n",
        "       yeild count\n",
        "       count += 1\n",
        "  count = count_upto(2)\n",
        "  print(next(count))\n",
        "  output = 1\n",
        "\n",
        "Q.7 What are the advantages of using generators over regular functions?\n",
        " - The advantage of generators over regular functrion is a generator does not return its result all at once. it yeilds its values one by one, each time it is called.\n",
        "\n",
        "Q.8 What is a lambda function in python and when is it typically used?\n",
        " - Lambda function is anonymous function, it's keyword is lambda.\n",
        "     it,s typically used for short, concise operations, especially when passing function as arguments to higher order functions like map, filter.\n",
        "Ex-\n",
        "  add_nums = lambda x, y : x+y\n",
        "    print(add_nums(5,20))\n",
        "output = 25\n",
        "\n",
        "Q.9 Explain the purpose and usage of the map() function in python.\n",
        " - It's a built in higher order function that applies a given function to each item in an iterable and return a map object containing the results.\n",
        "  the main purpose of it is to perform element wise transformations on iterables efficiently, often without the need for explicit loops. this promotes a concise programming.\n",
        "Ex- map(function, iterable,[ iterable1, iterable2])\n",
        "\n",
        "Q.10 What is the difference between map(), reduce(), and filter() functions in python?\n",
        " - map is a given function to each item in an iterable and returns an iterator that yeilds the results.\n",
        " - filter is an iterator from elements of an iterable for which the function returns True.\n",
        " - reduce a function of two arguments cumulatively to the items of an iterable from left to right. so as to reduce the iterable to a single value.\n",
        "\n",
        "\n"
      ],
      "metadata": {
        "id": "jvZw5vamqelR"
      }
    },
    {
      "cell_type": "code",
      "source": [
        "#Q.1 Write a python function that takes a list of numbers as input and returns the sum of all even numbers inthe list.\n",
        "def sum_of_even_numbers(numbers):\n",
        "    sum_even = 0\n",
        "    for num in numbers:\n",
        "        if num % 2 == 0:\n",
        "            sum_even += num\n",
        "    return sum_even\n",
        "numbers = [1, 2, 3, 4, 5, 6, 7, 8, 9, 10]\n",
        "result = sum_of_even_numbers(numbers)\n",
        "print(result)\n"
      ],
      "metadata": {
        "colab": {
          "base_uri": "https://localhost:8080/"
        },
        "id": "wSHAgiI8GBlo",
        "outputId": "d2239110-3daa-465b-ca71-9b055c3fc628"
      },
      "execution_count": null,
      "outputs": [
        {
          "output_type": "stream",
          "name": "stdout",
          "text": [
            "30\n"
          ]
        }
      ]
    },
    {
      "cell_type": "code",
      "source": [
        "#Q.2 Create a python function that accepts a string and returns the reverse of that strings.\n",
        "def reverse_string(input_string):\n",
        "    reversed_string = \"\"\n",
        "    for char in input_string:\n",
        "        reversed_string = char + reversed_string\n",
        "    return reversed_string\n",
        "input_string = \"hello world\"\n",
        "result = reverse_string(input_string)\n",
        "print(result)"
      ],
      "metadata": {
        "colab": {
          "base_uri": "https://localhost:8080/"
        },
        "id": "NRGeZjEoIW31",
        "outputId": "fa885203-3d1f-4ef7-d6ba-fb0a26452d04"
      },
      "execution_count": null,
      "outputs": [
        {
          "output_type": "stream",
          "name": "stdout",
          "text": [
            "dlrow olleh\n"
          ]
        }
      ]
    },
    {
      "cell_type": "code",
      "source": [
        "#Q.3 Implement a python function that takes a list of integers and returns a new list containing the squares of each number.\n",
        "def square_numbers(numbers):\n",
        "    squared_numbers = []\n",
        "    for num in numbers:\n",
        "        squared_numbers.append(num ** 2)\n",
        "    return squared_numbers\n",
        "numbers = [1, 2, 3, 4, 5]\n",
        "result = square_numbers(numbers)\n",
        "print(result)"
      ],
      "metadata": {
        "colab": {
          "base_uri": "https://localhost:8080/"
        },
        "id": "FGRGTZ81I_G3",
        "outputId": "46097648-7ece-4901-fd44-c167f53891b9"
      },
      "execution_count": null,
      "outputs": [
        {
          "output_type": "stream",
          "name": "stdout",
          "text": [
            "[1, 4, 9, 16, 25]\n"
          ]
        }
      ]
    },
    {
      "cell_type": "code",
      "source": [
        "#Q.4 Write a python function that checks if a given number is prime or not from 1 to 200.\n",
        "def is_prime(num):\n",
        "    if number <= 1:\n",
        "        return False\n",
        "    for i in range(2, int(num ** 0.5) + 1):\n",
        "        if num % i == 0:\n",
        "            return False\n",
        "    return True\n",
        "number = int(input(\"Enter a number: \"))\n",
        "if is_prime(number):\n",
        "    print(number, \"is a prime number.\")\n",
        "else:\n",
        "    print(number, \"is not a prime number.\")\n"
      ],
      "metadata": {
        "colab": {
          "base_uri": "https://localhost:8080/"
        },
        "id": "utU6rHzYJf-T",
        "outputId": "6ea79019-8939-4cbc-97c7-96cd128e43e8"
      },
      "execution_count": null,
      "outputs": [
        {
          "output_type": "stream",
          "name": "stdout",
          "text": [
            "Enter a number: 30\n",
            "30 is not a prime number.\n"
          ]
        }
      ]
    },
    {
      "cell_type": "code",
      "source": [
        "#Q.5 Create an iterator class in python that generates the fibonacci sequence up to a specified number of terms.\n",
        "def fibonacci_generator(n):\n",
        "    a, b = 0, 1\n",
        "    for _ in range(n):\n",
        "        yield a\n",
        "        a, b = b, a + b\n",
        "        return fibonacci_generator(10)\n",
        "for num in fibonacci_generator(10):\n",
        "    print(next(fibonacci_generator(10)))\n",
        "    print(next(fibonacci_generator(10)))"
      ],
      "metadata": {
        "colab": {
          "base_uri": "https://localhost:8080/"
        },
        "id": "xu7Jn2bMLlh_",
        "outputId": "733a8ad1-a909-471d-8701-a69c14ba9258"
      },
      "execution_count": null,
      "outputs": [
        {
          "output_type": "stream",
          "name": "stdout",
          "text": [
            "0\n",
            "0\n"
          ]
        }
      ]
    },
    {
      "cell_type": "code",
      "source": [
        "#Q.6 Write a generator function in python that yeilds the powers of 2 up to a given exponent.\n",
        "def power_of_two(exponent):\n",
        "    for i in range(exponent + 1):\n",
        "        yield 2 ** i\n",
        "for power in power_of_two(5):\n",
        "    print(power)"
      ],
      "metadata": {
        "colab": {
          "base_uri": "https://localhost:8080/"
        },
        "id": "kQCJg6_yPCjs",
        "outputId": "7d54a7fa-6759-4ab2-d6e3-fd75a82e0501"
      },
      "execution_count": null,
      "outputs": [
        {
          "output_type": "stream",
          "name": "stdout",
          "text": [
            "1\n",
            "2\n",
            "4\n",
            "8\n",
            "16\n",
            "32\n"
          ]
        }
      ]
    },
    {
      "cell_type": "code",
      "source": [
        "#Q.7 Implement a generator function that reads a file line by line and yeilds each line as a string.\n",
        "def read_file_line_by_line(file_path):\n",
        "    with open(file_path, 'r') as file:\n",
        "        for line in file:\n",
        "            yield line.strip()\n",
        "            file_path = 'example.txt'\n",
        "    for line in read_file_line_by_line(file_path):\n",
        "      print(line)"
      ],
      "metadata": {
        "id": "u-5Mel-APg1L"
      },
      "execution_count": 6,
      "outputs": []
    },
    {
      "cell_type": "code",
      "source": [
        "#Q.8 Use a lambda function in python to sort a list of tuples based on the second element of each tuple.\n",
        "data = [('apple', 3), ('banana', 1), ('orange', 2)]\n",
        "sorted_data = sorted(data, key=lambda x: x[1])\n",
        "print(sorted_data)\n"
      ],
      "metadata": {
        "colab": {
          "base_uri": "https://localhost:8080/"
        },
        "id": "YpsYd5OcULXZ",
        "outputId": "2d7b0eb4-b387-4506-9110-b648b669fd71"
      },
      "execution_count": null,
      "outputs": [
        {
          "output_type": "stream",
          "name": "stdout",
          "text": [
            "[('banana', 1), ('orange', 2), ('apple', 3)]\n"
          ]
        }
      ]
    },
    {
      "cell_type": "code",
      "source": [
        "#Q.9 Write a python program that uses map() to convert a list of temperatures from celsius to fahrenheit.\n",
        "celsius_temperatures = [0, 10, 20, 30, 40]\n",
        "fahrenheit_temperatures = list(map(lambda c: (c * 9/5) + 32, celsius_temperatures))\n",
        "print(fahrenheit_temperatures)"
      ],
      "metadata": {
        "colab": {
          "base_uri": "https://localhost:8080/"
        },
        "id": "LtDVlykWVG_y",
        "outputId": "bcaf2936-e9bb-4530-f982-efd676ddefd1"
      },
      "execution_count": null,
      "outputs": [
        {
          "output_type": "stream",
          "name": "stdout",
          "text": [
            "[32.0, 50.0, 68.0, 86.0, 104.0]\n"
          ]
        }
      ]
    },
    {
      "cell_type": "code",
      "source": [
        "#.10 Create a python program that uses filter() to remove all the vowels from a given string.\n",
        "def remove_vowel(string):\n",
        "  vowels = [\"a\",\"e\",\"i\",\"o\",\"u\"]\n",
        "  result = [letter for letter in string if letter.lower() not in vowels]\n",
        "  result = \"\".join(result)\n",
        "  return result\n",
        "string =\"i am a student of pwskills\"\n",
        "print(remove_vowel(string))\n",
        "\n"
      ],
      "metadata": {
        "colab": {
          "base_uri": "https://localhost:8080/"
        },
        "id": "OAJRmd-TVqVD",
        "outputId": "dba46425-cfbd-4956-c59c-0577041322e9"
      },
      "execution_count": null,
      "outputs": [
        {
          "output_type": "stream",
          "name": "stdout",
          "text": [
            " m  stdnt f pwsklls\n"
          ]
        }
      ]
    },
    {
      "cell_type": "code",
      "source": [
        "#Q.11\n",
        "order = [\n",
        "    [34587, \"Learning python, Mark Lutz\", 4, 40.95],\n",
        "    [98762, \"Programming python, Mark Lutz\", 5, 56.80],\n",
        "    [77226, \"Head First python, Paul Barry\", 3, 32.95],\n",
        "    [88112, \"Einfuhrung in python3, Bernd Klein\", 3, 24.99]\n",
        "]\n",
        "processed_order = list(map(lambda order: (order[0], (order[2] * order[3] + 10) if (order[2]* order[3]) < 10000 else(order[2]*order[3])), order))\n",
        "print(processed_order)"
      ],
      "metadata": {
        "colab": {
          "base_uri": "https://localhost:8080/"
        },
        "id": "62TNitHtYgP3",
        "outputId": "5a42ce0c-0971-48f6-99a0-14912a6b4a5e"
      },
      "execution_count": null,
      "outputs": [
        {
          "output_type": "stream",
          "name": "stdout",
          "text": [
            "[(34587, 173.8), (98762, 294.0), (77226, 108.85000000000001), (88112, 84.97)]\n"
          ]
        }
      ]
    }
  ]
}